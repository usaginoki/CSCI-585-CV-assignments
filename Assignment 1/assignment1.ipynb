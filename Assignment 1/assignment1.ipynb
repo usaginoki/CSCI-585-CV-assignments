{
 "cells": [
  {
   "cell_type": "markdown",
   "metadata": {},
   "source": [
    "# Assignment 1"
   ]
  },
  {
   "cell_type": "markdown",
   "metadata": {},
   "source": [
    "I used to make telegram stickerpacks by cutting out characters and/or objects from \"Clinic of Horrors\" webtoon comics (https://www.webtoons.com/en/supernatural/clinic-of-horrors/list?title_no=3414).\n",
    "\n",
    "Being young and naive, I traced the edges almost by-hand. Maybe if I knew CV back then I could have simplified the process by applying some hacks such as edge detection. Here I will try to do exactly that."
   ]
  },
  {
   "cell_type": "markdown",
   "metadata": {},
   "source": [
    "## Importing libraries and images"
   ]
  },
  {
   "cell_type": "code",
   "execution_count": 11,
   "metadata": {},
   "outputs": [],
   "source": [
    "import cv2 as cv\n",
    "import regex as re\n",
    "import os"
   ]
  },
  {
   "cell_type": "code",
   "execution_count": 12,
   "metadata": {},
   "outputs": [],
   "source": [
    "# I saved the images using a screen capture tool that automatically names the files as \"Capture\" + a number\n",
    "# import all images in the imgs folder that start with \"Capture\"\n",
    "\n",
    "img_names = [img for img in os.listdir(\"./imgs\") if re.match(\"Capture\", img)]\n",
    "img_names = img_names[:10]\n",
    "imgs = [cv.imread(f\"./imgs/{img}\") for img in img_names]"
   ]
  },
  {
   "cell_type": "markdown",
   "metadata": {},
   "source": [
    "## Preprocessing"
   ]
  },
  {
   "cell_type": "code",
   "execution_count": 13,
   "metadata": {},
   "outputs": [],
   "source": [
    "# Preprocessing step 1: convert to grayscale\n",
    "\n",
    "# On this step an RGB image is converted to a grayscale image, that is each pixel is recorded\n",
    "# as with a single value representing its intensity, instead of a vector of 3 values for three channels.\n",
    "# Convering images to grayscale makes some further operations possible or easier\n",
    "\n",
    "gray_imgs = [cv.cvtColor(img, cv.COLOR_BGR2GRAY) for img in imgs]"
   ]
  },
  {
   "cell_type": "code",
   "execution_count": 14,
   "metadata": {},
   "outputs": [],
   "source": [
    "# Preprocessing step 2: Gaussian blur (optional)\n",
    "\n",
    "# This step helps with denoising the images, which can be useful for further processing.\n",
    "\n",
    "blurred_imgs = [cv.GaussianBlur(img, (5, 5), 0) for img in gray_imgs]"
   ]
  },
  {
   "cell_type": "markdown",
   "metadata": {},
   "source": [
    "## Feature extraction"
   ]
  },
  {
   "cell_type": "code",
   "execution_count": 15,
   "metadata": {},
   "outputs": [],
   "source": [
    "# Feature extraction: Canny edge detection\n",
    "\n",
    "# Edge detection is useful in many image processing tasks: opgect detection, segmentation, etc.\n",
    "# In this algorithm the edges are detected by computing the gradients on the image and then\n",
    "# applying a threshold (weak and strong) to the gradient values. The following two steps are:\n",
    "# 1. Non-maximum suppression (leaves only one pixel for detection) and 2. Double thresholding\n",
    "# One of the drawbacks of this algorithm is that it requires a lot manual hyperparameter tuning.\n",
    "\n",
    "edges = [cv.Canny(img, 100, 200) for img in blurred_imgs] # i did not tune the hyperparameters\n"
   ]
  },
  {
   "cell_type": "code",
   "execution_count": 16,
   "metadata": {},
   "outputs": [],
   "source": [
    "# Display the images\n",
    "# def display_images(images, titles):\n",
    "#     for i in range(len(images)):\n",
    "#         cv.imshow(titles[i], images[i])\n",
    "#     cv.waitKey(0)\n",
    "#     cv.destroyAllWindows()\n",
    "\n",
    "# display_images(edges, [\"Edges\"] * len(edges))"
   ]
  },
  {
   "cell_type": "code",
   "execution_count": 21,
   "metadata": {},
   "outputs": [],
   "source": [
    "# save the feature vectors in an array A\n",
    "A = edges\n",
    "\n",
    "A_flat = [a.flatten() for a in A]\n",
    "\n",
    "# save the image names in matrix B\n",
    "B = img_names"
   ]
  },
  {
   "cell_type": "code",
   "execution_count": 22,
   "metadata": {},
   "outputs": [
    {
     "name": "stdout",
     "output_type": "stream",
     "text": [
      "Image: Capture.PNG, features: [0 0 0 ... 0 0 0]\n",
      "Image: Capture1.PNG, features: [0 0 0 ... 0 0 0]\n",
      "Image: Capture11.PNG, features: [0 0 0 ... 0 0 0]\n",
      "Image: Capture12.PNG, features: [0 0 0 ... 0 0 0]\n",
      "Image: Capture13.PNG, features: [0 0 0 ... 0 0 0]\n",
      "Image: Capture14.PNG, features: [0 0 0 ... 0 0 0]\n",
      "Image: Capture15.PNG, features: [0 0 0 ... 0 0 0]\n",
      "Image: Capture2.PNG, features: [0 0 0 ... 0 0 0]\n",
      "Image: Capture3.PNG, features: [0 0 0 ... 0 0 0]\n",
      "Image: Capture4.PNG, features: [0 0 0 ... 0 0 0]\n"
     ]
    }
   ],
   "source": [
    "for img_name, features in zip(B, A_flat):\n",
    "    print(f\"Image: {img_name}, features: {features}\")"
   ]
  },
  {
   "cell_type": "code",
   "execution_count": 23,
   "metadata": {},
   "outputs": [
    {
     "name": "stdout",
     "output_type": "stream",
     "text": [
      "['Capture.PNG', 'Capture1.PNG', 'Capture11.PNG', 'Capture12.PNG', 'Capture13.PNG', 'Capture14.PNG', 'Capture15.PNG', 'Capture2.PNG', 'Capture3.PNG', 'Capture4.PNG']\n"
     ]
    }
   ],
   "source": [
    "print(B)"
   ]
  },
  {
   "cell_type": "code",
   "execution_count": 20,
   "metadata": {},
   "outputs": [
    {
     "name": "stdout",
     "output_type": "stream",
     "text": [
      "[array([[  0,   0,   0, ...,   0,   0,   0],\n",
      "       [  0,   0,   0, ...,   0,   0,   0],\n",
      "       [  0,   0,   0, ...,   0,   0,   0],\n",
      "       ...,\n",
      "       [  0, 255,   0, ...,   0,   0,   0],\n",
      "       [255, 255, 255, ..., 255, 255, 255],\n",
      "       [  0,   0,   0, ...,   0,   0,   0]], dtype=uint8), array([[  0,   0,   0, ...,   0,   0,   0],\n",
      "       [  0,   0,   0, ...,   0,   0,   0],\n",
      "       [  0,   0,   0, ...,   0,   0,   0],\n",
      "       ...,\n",
      "       [255, 255, 255, ..., 255, 255, 255],\n",
      "       [  0,   0,   0, ...,   0,   0,   0],\n",
      "       [  0,   0,   0, ...,   0,   0,   0]], dtype=uint8), array([[0, 0, 0, ..., 0, 0, 0],\n",
      "       [0, 0, 0, ..., 0, 0, 0],\n",
      "       [0, 0, 0, ..., 0, 0, 0],\n",
      "       ...,\n",
      "       [0, 0, 0, ..., 0, 0, 0],\n",
      "       [0, 0, 0, ..., 0, 0, 0],\n",
      "       [0, 0, 0, ..., 0, 0, 0]], dtype=uint8), array([[0, 0, 0, ..., 0, 0, 0],\n",
      "       [0, 0, 0, ..., 0, 0, 0],\n",
      "       [0, 0, 0, ..., 0, 0, 0],\n",
      "       ...,\n",
      "       [0, 0, 0, ..., 0, 0, 0],\n",
      "       [0, 0, 0, ..., 0, 0, 0],\n",
      "       [0, 0, 0, ..., 0, 0, 0]], dtype=uint8), array([[0, 0, 0, ..., 0, 0, 0],\n",
      "       [0, 0, 0, ..., 0, 0, 0],\n",
      "       [0, 0, 0, ..., 0, 0, 0],\n",
      "       ...,\n",
      "       [0, 0, 0, ..., 0, 0, 0],\n",
      "       [0, 0, 0, ..., 0, 0, 0],\n",
      "       [0, 0, 0, ..., 0, 0, 0]], dtype=uint8), array([[  0,   0,   0, ...,   0,   0,   0],\n",
      "       [  0,   0,   0, ...,   0,   0,   0],\n",
      "       [  0,   0,   0, ...,   0,   0,   0],\n",
      "       ...,\n",
      "       [255, 255, 255, ..., 255,   0,   0],\n",
      "       [  0,   0,   0, ...,   0,   0,   0],\n",
      "       [  0,   0,   0, ...,   0,   0,   0]], dtype=uint8), array([[0, 0, 0, ..., 0, 0, 0],\n",
      "       [0, 0, 0, ..., 0, 0, 0],\n",
      "       [0, 0, 0, ..., 0, 0, 0],\n",
      "       ...,\n",
      "       [0, 0, 0, ..., 0, 0, 0],\n",
      "       [0, 0, 0, ..., 0, 0, 0],\n",
      "       [0, 0, 0, ..., 0, 0, 0]], dtype=uint8), array([[0, 0, 0, ..., 0, 0, 0],\n",
      "       [0, 0, 0, ..., 0, 0, 0],\n",
      "       [0, 0, 0, ..., 0, 0, 0],\n",
      "       ...,\n",
      "       [0, 0, 0, ..., 0, 0, 0],\n",
      "       [0, 0, 0, ..., 0, 0, 0],\n",
      "       [0, 0, 0, ..., 0, 0, 0]], dtype=uint8), array([[0, 0, 0, ..., 0, 0, 0],\n",
      "       [0, 0, 0, ..., 0, 0, 0],\n",
      "       [0, 0, 0, ..., 0, 0, 0],\n",
      "       ...,\n",
      "       [0, 0, 0, ..., 0, 0, 0],\n",
      "       [0, 0, 0, ..., 0, 0, 0],\n",
      "       [0, 0, 0, ..., 0, 0, 0]], dtype=uint8), array([[0, 0, 0, ..., 0, 0, 0],\n",
      "       [0, 0, 0, ..., 0, 0, 0],\n",
      "       [0, 0, 0, ..., 0, 0, 0],\n",
      "       ...,\n",
      "       [0, 0, 0, ..., 0, 0, 0],\n",
      "       [0, 0, 0, ..., 0, 0, 0],\n",
      "       [0, 0, 0, ..., 0, 0, 0]], dtype=uint8)]\n"
     ]
    }
   ],
   "source": [
    "print(A)"
   ]
  }
 ],
 "metadata": {
  "kernelspec": {
   "display_name": "Python 3",
   "language": "python",
   "name": "python3"
  },
  "language_info": {
   "codemirror_mode": {
    "name": "ipython",
    "version": 3
   },
   "file_extension": ".py",
   "mimetype": "text/x-python",
   "name": "python",
   "nbconvert_exporter": "python",
   "pygments_lexer": "ipython3",
   "version": "3.8.8"
  }
 },
 "nbformat": 4,
 "nbformat_minor": 2
}
